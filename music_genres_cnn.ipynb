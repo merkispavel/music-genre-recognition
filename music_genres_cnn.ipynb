{
  "cells": [
    {
      "metadata": {
        "_cell_guid": "017a5fcf-5ec7-48f2-876d-c645dc3d2ebc",
        "_uuid": "8a7d0ec9c671188682406915c10cc53d15944074",
        "collapsed": true,
        "trusted": false
      },
      "cell_type": "code",
      "source": "%reset -f",
      "execution_count": null,
      "outputs": []
    },
    {
      "metadata": {
        "_cell_guid": "07ebfcb2-5a4b-426e-871e-1b2434301743",
        "_uuid": "aa2d903c6350e206170471ed04d05d2be2aaeda7",
        "trusted": true
      },
      "cell_type": "code",
      "source": "%matplotlib inline\nfrom __future__ import print_function\nimport keras\nfrom keras.datasets import mnist\nfrom keras.models import Sequential\nfrom keras.layers import Dense, Dropout, Flatten\nfrom keras.layers import Conv2D, MaxPooling2D\nfrom keras import backend as K\n\nfrom sklearn.model_selection import train_test_split\nimport matplotlib.pyplot as plt\n\nfrom tqdm import tqdm\nimport numpy as np\n\nimport os",
      "execution_count": 1,
      "outputs": [
        {
          "output_type": "stream",
          "text": "/opt/conda/lib/python3.6/site-packages/h5py/__init__.py:36: FutureWarning: Conversion of the second argument of issubdtype from `float` to `np.floating` is deprecated. In future, it will be treated as `np.float64 == np.dtype(float).type`.\n  from ._conv import register_converters as _register_converters\nUsing TensorFlow backend.\n",
          "name": "stderr"
        }
      ]
    },
    {
      "metadata": {
        "_cell_guid": "d8670961-fa1e-431c-bafa-3743cb5bb9d2",
        "_uuid": "c556a3582f80f08a048b440724cc7945a4bfe968",
        "trusted": true
      },
      "cell_type": "code",
      "source": "!cd ../input && ls",
      "execution_count": 2,
      "outputs": [
        {
          "output_type": "stream",
          "text": "genre-images-wb  images-450-257  mnistkeras  textfiles\r\n",
          "name": "stdout"
        }
      ]
    },
    {
      "metadata": {
        "_cell_guid": "db34f5ff-c3f6-4a8a-a766-b35deb2ecb31",
        "_uuid": "810df014071a01bd8006a816a3585140c6bfff34",
        "collapsed": true,
        "trusted": true
      },
      "cell_type": "code",
      "source": "GENRE_DIR = '../input/images-450-257/images_450_257/genres_images_450_257/'\n# GENRE_DIR = '../input/genre-images-wb/images_wb/genre_images_wb/'\nGENRE_LIST = ('blues', 'classical', 'country', 'disco', \n              'hiphop', 'jazz', 'metal', 'pop', 'reggae', 'rock')\nNUM_OF_GENRES = 10\nGENRE_SONGS = 100",
      "execution_count": 3,
      "outputs": []
    },
    {
      "metadata": {
        "_cell_guid": "9f3f1f69-883a-47c7-bf30-47e850544d8d",
        "_uuid": "a570630082d5931ea2a9f93da3813ad7e010e41e",
        "collapsed": true,
        "trusted": true
      },
      "cell_type": "code",
      "source": "from PIL import Image\nimport imageio",
      "execution_count": 4,
      "outputs": []
    },
    {
      "metadata": {
        "_cell_guid": "9fb45b4b-7453-4bcd-aec1-a832f219087b",
        "_uuid": "e5b7dcbb69b38782978d318ae391a22827406f16"
      },
      "cell_type": "markdown",
      "source": "## Read Data"
    },
    {
      "metadata": {
        "_cell_guid": "a2f230c5-9487-403e-b59a-06b68e25db0d",
        "_uuid": "95d998154ff8c2adc8fdde796b437497838ece73",
        "collapsed": true,
        "trusted": true
      },
      "cell_type": "code",
      "source": "img_shape = (257, 450, 1)",
      "execution_count": 5,
      "outputs": []
    },
    {
      "metadata": {
        "_cell_guid": "a2f230c5-9487-403e-b59a-06b68e25db0d",
        "_uuid": "95d998154ff8c2adc8fdde796b437497838ece73",
        "collapsed": true,
        "trusted": true
      },
      "cell_type": "code",
      "source": "# img_shape = (513, 800, 1)",
      "execution_count": 6,
      "outputs": []
    },
    {
      "metadata": {
        "_cell_guid": "2098a5ea-ebbb-4503-9f66-92b1d0ce09b7",
        "_uuid": "8a9cf5cede64797095e1c2d6363cf67b425a8198",
        "collapsed": true,
        "trusted": true
      },
      "cell_type": "code",
      "source": "x = np.ndarray((NUM_OF_GENRES * GENRE_SONGS, *img_shape))\ny = []",
      "execution_count": 7,
      "outputs": []
    },
    {
      "metadata": {
        "_cell_guid": "5a5e324a-b745-403c-8d4c-54b28ac26169",
        "_uuid": "9170114bf124cfde2c9e112c17637d64918182b0",
        "collapsed": true,
        "trusted": true
      },
      "cell_type": "code",
      "source": "def show(image):\n    plt.imshow(image)",
      "execution_count": 8,
      "outputs": []
    },
    {
      "metadata": {
        "_cell_guid": "ecbc8c28-8959-4c21-96e1-f287666d341a",
        "_uuid": "3436f3c0bb0952b50a5f43bf0916fa4496c8c474",
        "trusted": true
      },
      "cell_type": "code",
      "source": "pos = 0\nfor genre_idx, genre in enumerate(GENRE_LIST):\n    print(genre, '...')\n    for root, subdirs, files in os.walk(GENRE_DIR + genre):\n        for image_file in tqdm(files):\n            img = imageio.imread(root + '/' + image_file)\n            try:\n                if len(img.shape) == 2:\n                    tmp = np.array(img).reshape(img_shape)\n                else:\n                    tmp = np.array(img[:, :, :img_shape[-1]])\n            except Exception as e:\n                print(e)\n                print(img.shape)\n            else:\n                x[pos] = tmp\n                y.append(genre_idx)\n                pos += 1\n#             plt.subplot(121)\n#             show(tmp)\n            \n#             plt.subplot(122)\n#             show(x[pos][:, :, :-1])\n#             print((tmp == x[pos]).all())\n            \n#             break\n        break\n#     break",
      "execution_count": 9,
      "outputs": [
        {
          "output_type": "stream",
          "text": " 16%|█▌        | 16/100 [00:00<00:00, 152.81it/s]",
          "name": "stderr"
        },
        {
          "output_type": "stream",
          "text": "blues ...\n",
          "name": "stdout"
        },
        {
          "output_type": "stream",
          "text": "100%|██████████| 100/100 [00:00<00:00, 186.25it/s]\n 20%|██        | 20/100 [00:00<00:00, 195.04it/s]",
          "name": "stderr"
        },
        {
          "output_type": "stream",
          "text": "classical ...\n",
          "name": "stdout"
        },
        {
          "output_type": "stream",
          "text": "100%|██████████| 100/100 [00:00<00:00, 190.90it/s]\n 19%|█▉        | 19/100 [00:00<00:00, 189.40it/s]",
          "name": "stderr"
        },
        {
          "output_type": "stream",
          "text": "country ...\n",
          "name": "stdout"
        },
        {
          "output_type": "stream",
          "text": "100%|██████████| 100/100 [00:00<00:00, 186.10it/s]\n 20%|██        | 20/100 [00:00<00:00, 192.34it/s]",
          "name": "stderr"
        },
        {
          "output_type": "stream",
          "text": "disco ...\n",
          "name": "stdout"
        },
        {
          "output_type": "stream",
          "text": "100%|██████████| 100/100 [00:00<00:00, 192.70it/s]\n 20%|██        | 20/100 [00:00<00:00, 198.86it/s]",
          "name": "stderr"
        },
        {
          "output_type": "stream",
          "text": "hiphop ...\n",
          "name": "stdout"
        },
        {
          "output_type": "stream",
          "text": "100%|██████████| 100/100 [00:00<00:00, 194.90it/s]\n 21%|██        | 21/100 [00:00<00:00, 202.38it/s]",
          "name": "stderr"
        },
        {
          "output_type": "stream",
          "text": "jazz ...\n",
          "name": "stdout"
        },
        {
          "output_type": "stream",
          "text": "100%|██████████| 100/100 [00:00<00:00, 194.28it/s]\n 19%|█▉        | 19/100 [00:00<00:00, 183.15it/s]",
          "name": "stderr"
        },
        {
          "output_type": "stream",
          "text": "metal ...\n",
          "name": "stdout"
        },
        {
          "output_type": "stream",
          "text": "100%|██████████| 100/100 [00:00<00:00, 192.40it/s]\n 20%|██        | 20/100 [00:00<00:00, 199.30it/s]",
          "name": "stderr"
        },
        {
          "output_type": "stream",
          "text": "pop ...\n",
          "name": "stdout"
        },
        {
          "output_type": "stream",
          "text": "100%|██████████| 100/100 [00:00<00:00, 194.22it/s]\n 21%|██        | 21/100 [00:00<00:00, 202.15it/s]",
          "name": "stderr"
        },
        {
          "output_type": "stream",
          "text": "reggae ...\n",
          "name": "stdout"
        },
        {
          "output_type": "stream",
          "text": "100%|██████████| 100/100 [00:00<00:00, 200.03it/s]\n 20%|██        | 20/100 [00:00<00:00, 199.73it/s]",
          "name": "stderr"
        },
        {
          "output_type": "stream",
          "text": "rock ...\n",
          "name": "stdout"
        },
        {
          "output_type": "stream",
          "text": "100%|██████████| 100/100 [00:00<00:00, 178.53it/s]\n",
          "name": "stderr"
        }
      ]
    },
    {
      "metadata": {
        "_cell_guid": "d8736d25-7f51-4a7a-9ebc-23811f426a3a",
        "_uuid": "eb6be38523d63ed619621b52dcc0baa6e7042660",
        "collapsed": true,
        "trusted": true
      },
      "cell_type": "code",
      "source": "x = x[:pos]",
      "execution_count": 10,
      "outputs": []
    },
    {
      "metadata": {
        "_cell_guid": "fd868563-3f9f-46b2-91f1-835c14911bbc",
        "_uuid": "29179f7043ba1dfc1dbe1967e2648e26baacddfb",
        "collapsed": true,
        "trusted": true
      },
      "cell_type": "code",
      "source": "y = np.array(y)",
      "execution_count": 11,
      "outputs": []
    },
    {
      "metadata": {
        "_cell_guid": "a0dc6b97-6027-4f63-a9c2-0c09f4b62d01",
        "_uuid": "a6a4897c542c0387f80479a0adb7046a89181d86",
        "collapsed": true,
        "trusted": true
      },
      "cell_type": "code",
      "source": "x_train, x_test, y_train, y_test = train_test_split(\n    x, y, test_size=0.2, random_state=53, stratify=y)",
      "execution_count": 12,
      "outputs": []
    },
    {
      "metadata": {
        "_cell_guid": "63b1713f-6e32-4705-99b0-d23c13f97f45",
        "_uuid": "dece89bf76fac56d43e64ed755455730e8417ec0",
        "collapsed": true,
        "trusted": true
      },
      "cell_type": "code",
      "source": "batch_size = 5\nnum_classes = NUM_OF_GENRES\nepochs = 12\n\n# input image dimensions\nimg_rows, img_cols, components = img_shape\n\n# the data, split between train and test sets\n# (x_train, y_train), (x_test, y_test) = mnist.load_data()",
      "execution_count": 13,
      "outputs": []
    },
    {
      "metadata": {
        "_cell_guid": "0cb8383c-cd87-4036-9eac-6fe547df3b02",
        "_uuid": "8a9edfb3efca55df2012eb941241582eef715f35",
        "trusted": true
      },
      "cell_type": "code",
      "source": "K.image_data_format()",
      "execution_count": 14,
      "outputs": [
        {
          "output_type": "execute_result",
          "execution_count": 14,
          "data": {
            "text/plain": "'channels_last'"
          },
          "metadata": {}
        }
      ]
    },
    {
      "metadata": {
        "_cell_guid": "1e8aef65-b449-4bcc-a0db-3e3b2ee312ed",
        "_uuid": "db15fd95bb9a92f190e7d8831f2d0ef58fc13adc",
        "collapsed": true,
        "trusted": true
      },
      "cell_type": "code",
      "source": "if K.image_data_format() == 'channels_first':\n    x_train = x_train.reshape(x_train.shape[0], components, img_rows, img_cols)\n    x_test = x_test.reshape(x_test.shape[0], components, img_rows, img_cols)\n    input_shape = (1, img_rows, img_cols)\nelse:\n    x_train = x_train.reshape(x_train.shape[0], img_rows, img_cols, components)\n    x_test = x_test.reshape(x_test.shape[0], img_rows, img_cols, components)\n    input_shape = (img_rows, img_cols, components)",
      "execution_count": 15,
      "outputs": []
    },
    {
      "metadata": {
        "_cell_guid": "7a02ff16-6acb-4a77-bbaf-47ef9e3faf9d",
        "_uuid": "c11fcf476158c89a1a65f7f601ed65feb4bc99b9",
        "trusted": true
      },
      "cell_type": "code",
      "source": "x_train = x_train.astype('float32')\nx_test = x_test.astype('float32')\nx_train /= 255\nx_test /= 255\nprint('x_train shape:', x_train.shape)\nprint(x_train.shape[0], 'train samples')\nprint(x_test.shape[0], 'test samples')\n\n# convert class vectors to binary class matrices\ny_train = keras.utils.to_categorical(y_train, num_classes)\ny_test = keras.utils.to_categorical(y_test, num_classes)",
      "execution_count": 16,
      "outputs": [
        {
          "output_type": "stream",
          "text": "x_train shape: (800, 257, 450, 1)\n800 train samples\n200 test samples\n",
          "name": "stdout"
        }
      ]
    },
    {
      "metadata": {
        "_cell_guid": "88abdd1f-4de5-40e3-aae5-5c1e2dd78ff0",
        "_uuid": "b5d0a771d0df10d358e8f1d74ce4af7059a4303b",
        "trusted": true
      },
      "cell_type": "code",
      "source": "x.shape",
      "execution_count": 17,
      "outputs": [
        {
          "output_type": "execute_result",
          "execution_count": 17,
          "data": {
            "text/plain": "(1000, 257, 450, 1)"
          },
          "metadata": {}
        }
      ]
    },
    {
      "metadata": {
        "_cell_guid": "f47336d7-95ad-4bbd-b04b-6fd1bc4f1b3b",
        "_uuid": "cf5a07049745890b1c3d5983be1b3f1c10d5a08d",
        "collapsed": true,
        "trusted": true
      },
      "cell_type": "code",
      "source": "batch_size = 10",
      "execution_count": 18,
      "outputs": []
    },
    {
      "metadata": {
        "_cell_guid": "c6e40f07-6ec9-4720-96a8-b7e50f6a4ac9",
        "_uuid": "2405a3c6931fe9152774e34b2605290411fc93b6",
        "collapsed": true,
        "trusted": false
      },
      "cell_type": "code",
      "source": "model = Sequential()\nmodel.add(Conv2D(8, kernel_size=(3, 3), strides=1,\n                 activation='relu',\n                 input_shape=input_shape))\nmodel.add(Conv2D(8, (3, 3), activation='relu'))\nmodel.add(MaxPooling2D(pool_size=(2, 2)))\nmodel.add(Dropout(0.1))\nmodel.add(Conv2D(16, kernel_size=(3, 3),\n                 activation='relu',\n                 input_shape=input_shape))\nmodel.add(Conv2D(16, (3, 3), activation='relu'))\nmodel.add(MaxPooling2D(pool_size=(2, 2)))\nmodel.add(Dropout(0.1))\nmodel.add(Conv2D(16, kernel_size=(3, 3),\n                 activation='relu',\n                 input_shape=input_shape))\nmodel.add(Conv2D(16, (3, 3), activation='relu'))\nmodel.add(MaxPooling2D(pool_size=(2, 2)))\nmodel.add(Flatten())\n# model.add(Dropout(0.1))\nmodel.add(Dense(32, activation='relu'))\nmodel.add(Dense(num_classes, activation='softmax'))\n\nmodel.compile(loss=keras.losses.categorical_crossentropy,\n              optimizer=keras.optimizers.Adadelta(),\n              metrics=['accuracy'])\nprint('ok')",
      "execution_count": null,
      "outputs": []
    },
    {
      "metadata": {
        "_cell_guid": "36103e11-b069-4a23-a6cb-f54962af7a40",
        "_uuid": "11f9cb577a1eefb0841ae48dedc1dcca74e28473",
        "collapsed": true,
        "trusted": false
      },
      "cell_type": "code",
      "source": "model = Sequential()\nmodel.add(Conv2D(16, kernel_size=2, strides=1, activation='relu', input_shape=input_shape))\nmodel.add(Conv2D(16, kernel_size=2, strides=2, activation='relu'))\nmodel.add(MaxPooling2D(pool_size=(2, 2)))\nmodel.add(Dropout(0.3))\nmodel.add(Conv2D(32, kernel_size=4, strides=1, activation='relu'))\nmodel.add(Conv2D(32, kernel_size=4, strides=2, activation='relu'))\nmodel.add(MaxPooling2D(pool_size=(2, 2)))\nmodel.add(Flatten())\nmodel.add(Dropout(0.3))\nmodel.add(Dense(64, activation='relu'))\nmodel.add(Dense(NUM_OF_GENRES, activation='softmax'))\n\nmodel.compile(optimizer='adam', loss='categorical_crossentropy', metrics=[\"accuracy\"])",
      "execution_count": null,
      "outputs": []
    },
    {
      "metadata": {
        "_cell_guid": "213810c4-5363-44ad-b10c-095e224ff61d",
        "_uuid": "b1c8434a96075e1f8ce5866912466e82d9ddd208",
        "collapsed": true,
        "trusted": false
      },
      "cell_type": "code",
      "source": "# Test loss: 2.121414485919786\n# Test accuracy: 0.495\nmodel = Sequential()\nmodel.add(Conv2D(8, kernel_size=2, activation='relu', input_shape=input_shape))\nmodel.add(Conv2D(8, kernel_size=2, activation='relu'))\nmodel.add(MaxPooling2D(pool_size=(2, 2)))\nmodel.add(Dropout(0.1))\nmodel.add(Conv2D(16, kernel_size=4, activation='relu'))\nmodel.add(Conv2D(16, kernel_size=4, activation='relu'))\nmodel.add(MaxPooling2D(pool_size=(2, 2)))\nmodel.add(Flatten())\n# model.add(Dropout(0.1))\n# model.add(Dense(32, activation='relu'))\nmodel.add(Dense(NUM_OF_GENRES, activation='softmax'))\n\nmodel.compile(optimizer='adamax', loss='categorical_crossentropy', metrics=[\"accuracy\"])",
      "execution_count": null,
      "outputs": []
    },
    {
      "metadata": {
        "_cell_guid": "6c6f0dae-f83a-479b-a085-adc1e0c35e1f",
        "_uuid": "fddd4d34a215144eae577684431127c1e34d4516",
        "collapsed": true,
        "trusted": true
      },
      "cell_type": "code",
      "source": "# Test loss: 2.121414485919786\n# Test accuracy: 0.495\nmodel = Sequential()\nmodel.add(Conv2D(4, kernel_size=2, activation='relu', input_shape=input_shape))\nmodel.add(Conv2D(4, kernel_size=2, activation='relu'))\nmodel.add(MaxPooling2D(pool_size=(2, 2)))\nmodel.add(Dropout(0.05))\nmodel.add(Conv2D(8, kernel_size=2, activation='relu'))\nmodel.add(Conv2D(8, kernel_size=2, activation='relu'))\nmodel.add(MaxPooling2D(pool_size=(2, 2)))\nmodel.add(Flatten())\nmodel.add(Dropout(0.05))\nmodel.add(Dense(32, activation='relu'))\nmodel.add(Dense(NUM_OF_GENRES, activation='softmax'))\nmodel.compile(optimizer='adamax', loss='categorical_crossentropy', metrics=[\"accuracy\"])",
      "execution_count": 35,
      "outputs": []
    },
    {
      "metadata": {
        "_cell_guid": "f3d8c50a-2d9e-48b5-ab12-3fb2c7ba4d74",
        "_uuid": "afdc5cfbd7d284916c5313ea946d278836b3ee20",
        "collapsed": true,
        "trusted": true
      },
      "cell_type": "code",
      "source": "batch_size = 5",
      "execution_count": 36,
      "outputs": []
    },
    {
      "metadata": {
        "trusted": true,
        "collapsed": true,
        "_uuid": "e58d19494155d289882ae8f684eacf84dfe83d39"
      },
      "cell_type": "code",
      "source": "epochs = 24",
      "execution_count": 37,
      "outputs": []
    },
    {
      "metadata": {
        "_cell_guid": "0b709951-7e5e-4ab3-aaf8-14334fdeda3a",
        "_uuid": "b87814cad52bd02c4ac83970d1ba9538754acb38",
        "trusted": true
      },
      "cell_type": "code",
      "source": "model.fit(x_train, y_train,\n          batch_size=batch_size,\n          epochs=epochs,\n          verbose=1,\n          validation_data=(x_test, y_test))",
      "execution_count": 40,
      "outputs": [
        {
          "output_type": "stream",
          "text": "Train on 800 samples, validate on 200 samples\nEpoch 1/24\n800/800 [==============================] - 4s 5ms/step - loss: 0.0067 - acc: 0.9988 - val_loss: 2.9433 - val_acc: 0.5150\nEpoch 2/24\n800/800 [==============================] - 4s 5ms/step - loss: 0.0109 - acc: 0.9975 - val_loss: 3.0194 - val_acc: 0.4800\nEpoch 3/24\n800/800 [==============================] - 4s 5ms/step - loss: 0.0183 - acc: 0.9950 - val_loss: 2.8044 - val_acc: 0.5200\nEpoch 4/24\n800/800 [==============================] - 4s 5ms/step - loss: 0.0082 - acc: 0.9988 - val_loss: 2.8603 - val_acc: 0.5000\nEpoch 5/24\n800/800 [==============================] - 4s 4ms/step - loss: 0.0068 - acc: 0.9975 - val_loss: 2.9132 - val_acc: 0.5050\nEpoch 6/24\n800/800 [==============================] - 4s 5ms/step - loss: 0.0050 - acc: 0.9988 - val_loss: 3.1791 - val_acc: 0.4950\nEpoch 7/24\n800/800 [==============================] - 4s 4ms/step - loss: 0.0064 - acc: 0.9988 - val_loss: 3.3866 - val_acc: 0.4550\nEpoch 8/24\n800/800 [==============================] - 4s 5ms/step - loss: 0.0140 - acc: 0.9950 - val_loss: 2.9789 - val_acc: 0.4750\nEpoch 9/24\n800/800 [==============================] - 4s 5ms/step - loss: 0.0127 - acc: 0.9950 - val_loss: 3.6087 - val_acc: 0.4450\nEpoch 10/24\n800/800 [==============================] - 4s 4ms/step - loss: 0.0217 - acc: 0.9925 - val_loss: 3.1411 - val_acc: 0.5200\nEpoch 11/24\n800/800 [==============================] - 4s 5ms/step - loss: 0.0091 - acc: 0.9975 - val_loss: 3.2157 - val_acc: 0.4950\nEpoch 12/24\n800/800 [==============================] - 4s 4ms/step - loss: 0.0111 - acc: 0.9975 - val_loss: 3.2138 - val_acc: 0.5150\nEpoch 13/24\n800/800 [==============================] - 4s 4ms/step - loss: 0.0065 - acc: 0.9988 - val_loss: 3.3604 - val_acc: 0.4900\nEpoch 14/24\n800/800 [==============================] - 4s 5ms/step - loss: 0.0060 - acc: 0.9988 - val_loss: 3.2428 - val_acc: 0.4950\nEpoch 15/24\n800/800 [==============================] - 4s 5ms/step - loss: 0.0066 - acc: 0.9975 - val_loss: 3.1777 - val_acc: 0.5050\nEpoch 16/24\n800/800 [==============================] - 4s 5ms/step - loss: 0.0107 - acc: 0.9963 - val_loss: 3.3218 - val_acc: 0.4900\nEpoch 17/24\n210/800 [======>.......................] - ETA: 2s - loss: 0.0080 - acc: 0.9952   ",
          "name": "stdout"
        },
        {
          "output_type": "error",
          "ename": "KeyboardInterrupt",
          "evalue": "",
          "traceback": [
            "\u001b[0;31m---------------------------------------------------------------------------\u001b[0m",
            "\u001b[0;31mKeyboardInterrupt\u001b[0m                         Traceback (most recent call last)",
            "\u001b[0;32m<ipython-input-40-b9edfa5eec19>\u001b[0m in \u001b[0;36m<module>\u001b[0;34m()\u001b[0m\n\u001b[1;32m      3\u001b[0m           \u001b[0mepochs\u001b[0m\u001b[0;34m=\u001b[0m\u001b[0mepochs\u001b[0m\u001b[0;34m,\u001b[0m\u001b[0;34m\u001b[0m\u001b[0m\n\u001b[1;32m      4\u001b[0m           \u001b[0mverbose\u001b[0m\u001b[0;34m=\u001b[0m\u001b[0;36m1\u001b[0m\u001b[0;34m,\u001b[0m\u001b[0;34m\u001b[0m\u001b[0m\n\u001b[0;32m----> 5\u001b[0;31m           validation_data=(x_test, y_test))\n\u001b[0m",
            "\u001b[0;32m/opt/conda/lib/python3.6/site-packages/Keras-2.1.5-py3.6.egg/keras/models.py\u001b[0m in \u001b[0;36mfit\u001b[0;34m(self, x, y, batch_size, epochs, verbose, callbacks, validation_split, validation_data, shuffle, class_weight, sample_weight, initial_epoch, steps_per_epoch, validation_steps, **kwargs)\u001b[0m\n\u001b[1;32m    961\u001b[0m                               \u001b[0minitial_epoch\u001b[0m\u001b[0;34m=\u001b[0m\u001b[0minitial_epoch\u001b[0m\u001b[0;34m,\u001b[0m\u001b[0;34m\u001b[0m\u001b[0m\n\u001b[1;32m    962\u001b[0m                               \u001b[0msteps_per_epoch\u001b[0m\u001b[0;34m=\u001b[0m\u001b[0msteps_per_epoch\u001b[0m\u001b[0;34m,\u001b[0m\u001b[0;34m\u001b[0m\u001b[0m\n\u001b[0;32m--> 963\u001b[0;31m                               validation_steps=validation_steps)\n\u001b[0m\u001b[1;32m    964\u001b[0m \u001b[0;34m\u001b[0m\u001b[0m\n\u001b[1;32m    965\u001b[0m     def evaluate(self, x=None, y=None,\n",
            "\u001b[0;32m/opt/conda/lib/python3.6/site-packages/Keras-2.1.5-py3.6.egg/keras/engine/training.py\u001b[0m in \u001b[0;36mfit\u001b[0;34m(self, x, y, batch_size, epochs, verbose, callbacks, validation_split, validation_data, shuffle, class_weight, sample_weight, initial_epoch, steps_per_epoch, validation_steps, **kwargs)\u001b[0m\n\u001b[1;32m   1703\u001b[0m                               \u001b[0minitial_epoch\u001b[0m\u001b[0;34m=\u001b[0m\u001b[0minitial_epoch\u001b[0m\u001b[0;34m,\u001b[0m\u001b[0;34m\u001b[0m\u001b[0m\n\u001b[1;32m   1704\u001b[0m                               \u001b[0msteps_per_epoch\u001b[0m\u001b[0;34m=\u001b[0m\u001b[0msteps_per_epoch\u001b[0m\u001b[0;34m,\u001b[0m\u001b[0;34m\u001b[0m\u001b[0m\n\u001b[0;32m-> 1705\u001b[0;31m                               validation_steps=validation_steps)\n\u001b[0m\u001b[1;32m   1706\u001b[0m \u001b[0;34m\u001b[0m\u001b[0m\n\u001b[1;32m   1707\u001b[0m     def evaluate(self, x=None, y=None,\n",
            "\u001b[0;32m/opt/conda/lib/python3.6/site-packages/Keras-2.1.5-py3.6.egg/keras/engine/training.py\u001b[0m in \u001b[0;36m_fit_loop\u001b[0;34m(self, f, ins, out_labels, batch_size, epochs, verbose, callbacks, val_f, val_ins, shuffle, callback_metrics, initial_epoch, steps_per_epoch, validation_steps)\u001b[0m\n\u001b[1;32m   1233\u001b[0m                         \u001b[0mins_batch\u001b[0m\u001b[0;34m[\u001b[0m\u001b[0mi\u001b[0m\u001b[0;34m]\u001b[0m \u001b[0;34m=\u001b[0m \u001b[0mins_batch\u001b[0m\u001b[0;34m[\u001b[0m\u001b[0mi\u001b[0m\u001b[0;34m]\u001b[0m\u001b[0;34m.\u001b[0m\u001b[0mtoarray\u001b[0m\u001b[0;34m(\u001b[0m\u001b[0;34m)\u001b[0m\u001b[0;34m\u001b[0m\u001b[0m\n\u001b[1;32m   1234\u001b[0m \u001b[0;34m\u001b[0m\u001b[0m\n\u001b[0;32m-> 1235\u001b[0;31m                     \u001b[0mouts\u001b[0m \u001b[0;34m=\u001b[0m \u001b[0mf\u001b[0m\u001b[0;34m(\u001b[0m\u001b[0mins_batch\u001b[0m\u001b[0;34m)\u001b[0m\u001b[0;34m\u001b[0m\u001b[0m\n\u001b[0m\u001b[1;32m   1236\u001b[0m                     \u001b[0;32mif\u001b[0m \u001b[0;32mnot\u001b[0m \u001b[0misinstance\u001b[0m\u001b[0;34m(\u001b[0m\u001b[0mouts\u001b[0m\u001b[0;34m,\u001b[0m \u001b[0mlist\u001b[0m\u001b[0;34m)\u001b[0m\u001b[0;34m:\u001b[0m\u001b[0;34m\u001b[0m\u001b[0m\n\u001b[1;32m   1237\u001b[0m                         \u001b[0mouts\u001b[0m \u001b[0;34m=\u001b[0m \u001b[0;34m[\u001b[0m\u001b[0mouts\u001b[0m\u001b[0;34m]\u001b[0m\u001b[0;34m\u001b[0m\u001b[0m\n",
            "\u001b[0;32m/opt/conda/lib/python3.6/site-packages/Keras-2.1.5-py3.6.egg/keras/backend/tensorflow_backend.py\u001b[0m in \u001b[0;36m__call__\u001b[0;34m(self, inputs)\u001b[0m\n\u001b[1;32m   2477\u001b[0m         \u001b[0msession\u001b[0m \u001b[0;34m=\u001b[0m \u001b[0mget_session\u001b[0m\u001b[0;34m(\u001b[0m\u001b[0;34m)\u001b[0m\u001b[0;34m\u001b[0m\u001b[0m\n\u001b[1;32m   2478\u001b[0m         updated = session.run(fetches=fetches, feed_dict=feed_dict,\n\u001b[0;32m-> 2479\u001b[0;31m                               **self.session_kwargs)\n\u001b[0m\u001b[1;32m   2480\u001b[0m         \u001b[0;32mreturn\u001b[0m \u001b[0mupdated\u001b[0m\u001b[0;34m[\u001b[0m\u001b[0;34m:\u001b[0m\u001b[0mlen\u001b[0m\u001b[0;34m(\u001b[0m\u001b[0mself\u001b[0m\u001b[0;34m.\u001b[0m\u001b[0moutputs\u001b[0m\u001b[0;34m)\u001b[0m\u001b[0;34m]\u001b[0m\u001b[0;34m\u001b[0m\u001b[0m\n\u001b[1;32m   2481\u001b[0m \u001b[0;34m\u001b[0m\u001b[0m\n",
            "\u001b[0;32m/opt/conda/lib/python3.6/site-packages/tensorflow/python/client/session.py\u001b[0m in \u001b[0;36mrun\u001b[0;34m(self, fetches, feed_dict, options, run_metadata)\u001b[0m\n\u001b[1;32m    906\u001b[0m     \u001b[0;32mtry\u001b[0m\u001b[0;34m:\u001b[0m\u001b[0;34m\u001b[0m\u001b[0m\n\u001b[1;32m    907\u001b[0m       result = self._run(None, fetches, feed_dict, options_ptr,\n\u001b[0;32m--> 908\u001b[0;31m                          run_metadata_ptr)\n\u001b[0m\u001b[1;32m    909\u001b[0m       \u001b[0;32mif\u001b[0m \u001b[0mrun_metadata\u001b[0m\u001b[0;34m:\u001b[0m\u001b[0;34m\u001b[0m\u001b[0m\n\u001b[1;32m    910\u001b[0m         \u001b[0mproto_data\u001b[0m \u001b[0;34m=\u001b[0m \u001b[0mtf_session\u001b[0m\u001b[0;34m.\u001b[0m\u001b[0mTF_GetBuffer\u001b[0m\u001b[0;34m(\u001b[0m\u001b[0mrun_metadata_ptr\u001b[0m\u001b[0;34m)\u001b[0m\u001b[0;34m\u001b[0m\u001b[0m\n",
            "\u001b[0;32m/opt/conda/lib/python3.6/site-packages/tensorflow/python/client/session.py\u001b[0m in \u001b[0;36m_run\u001b[0;34m(self, handle, fetches, feed_dict, options, run_metadata)\u001b[0m\n\u001b[1;32m   1141\u001b[0m     \u001b[0;32mif\u001b[0m \u001b[0mfinal_fetches\u001b[0m \u001b[0;32mor\u001b[0m \u001b[0mfinal_targets\u001b[0m \u001b[0;32mor\u001b[0m \u001b[0;34m(\u001b[0m\u001b[0mhandle\u001b[0m \u001b[0;32mand\u001b[0m \u001b[0mfeed_dict_tensor\u001b[0m\u001b[0;34m)\u001b[0m\u001b[0;34m:\u001b[0m\u001b[0;34m\u001b[0m\u001b[0m\n\u001b[1;32m   1142\u001b[0m       results = self._do_run(handle, final_targets, final_fetches,\n\u001b[0;32m-> 1143\u001b[0;31m                              feed_dict_tensor, options, run_metadata)\n\u001b[0m\u001b[1;32m   1144\u001b[0m     \u001b[0;32melse\u001b[0m\u001b[0;34m:\u001b[0m\u001b[0;34m\u001b[0m\u001b[0m\n\u001b[1;32m   1145\u001b[0m       \u001b[0mresults\u001b[0m \u001b[0;34m=\u001b[0m \u001b[0;34m[\u001b[0m\u001b[0;34m]\u001b[0m\u001b[0;34m\u001b[0m\u001b[0m\n",
            "\u001b[0;32m/opt/conda/lib/python3.6/site-packages/tensorflow/python/client/session.py\u001b[0m in \u001b[0;36m_do_run\u001b[0;34m(self, handle, target_list, fetch_list, feed_dict, options, run_metadata)\u001b[0m\n\u001b[1;32m   1322\u001b[0m     \u001b[0;32mif\u001b[0m \u001b[0mhandle\u001b[0m \u001b[0;32mis\u001b[0m \u001b[0;32mNone\u001b[0m\u001b[0;34m:\u001b[0m\u001b[0;34m\u001b[0m\u001b[0m\n\u001b[1;32m   1323\u001b[0m       return self._do_call(_run_fn, feeds, fetches, targets, options,\n\u001b[0;32m-> 1324\u001b[0;31m                            run_metadata)\n\u001b[0m\u001b[1;32m   1325\u001b[0m     \u001b[0;32melse\u001b[0m\u001b[0;34m:\u001b[0m\u001b[0;34m\u001b[0m\u001b[0m\n\u001b[1;32m   1326\u001b[0m       \u001b[0;32mreturn\u001b[0m \u001b[0mself\u001b[0m\u001b[0;34m.\u001b[0m\u001b[0m_do_call\u001b[0m\u001b[0;34m(\u001b[0m\u001b[0m_prun_fn\u001b[0m\u001b[0;34m,\u001b[0m \u001b[0mhandle\u001b[0m\u001b[0;34m,\u001b[0m \u001b[0mfeeds\u001b[0m\u001b[0;34m,\u001b[0m \u001b[0mfetches\u001b[0m\u001b[0;34m)\u001b[0m\u001b[0;34m\u001b[0m\u001b[0m\n",
            "\u001b[0;32m/opt/conda/lib/python3.6/site-packages/tensorflow/python/client/session.py\u001b[0m in \u001b[0;36m_do_call\u001b[0;34m(self, fn, *args)\u001b[0m\n\u001b[1;32m   1328\u001b[0m   \u001b[0;32mdef\u001b[0m \u001b[0m_do_call\u001b[0m\u001b[0;34m(\u001b[0m\u001b[0mself\u001b[0m\u001b[0;34m,\u001b[0m \u001b[0mfn\u001b[0m\u001b[0;34m,\u001b[0m \u001b[0;34m*\u001b[0m\u001b[0margs\u001b[0m\u001b[0;34m)\u001b[0m\u001b[0;34m:\u001b[0m\u001b[0;34m\u001b[0m\u001b[0m\n\u001b[1;32m   1329\u001b[0m     \u001b[0;32mtry\u001b[0m\u001b[0;34m:\u001b[0m\u001b[0;34m\u001b[0m\u001b[0m\n\u001b[0;32m-> 1330\u001b[0;31m       \u001b[0;32mreturn\u001b[0m \u001b[0mfn\u001b[0m\u001b[0;34m(\u001b[0m\u001b[0;34m*\u001b[0m\u001b[0margs\u001b[0m\u001b[0;34m)\u001b[0m\u001b[0;34m\u001b[0m\u001b[0m\n\u001b[0m\u001b[1;32m   1331\u001b[0m     \u001b[0;32mexcept\u001b[0m \u001b[0merrors\u001b[0m\u001b[0;34m.\u001b[0m\u001b[0mOpError\u001b[0m \u001b[0;32mas\u001b[0m \u001b[0me\u001b[0m\u001b[0;34m:\u001b[0m\u001b[0;34m\u001b[0m\u001b[0m\n\u001b[1;32m   1332\u001b[0m       \u001b[0mmessage\u001b[0m \u001b[0;34m=\u001b[0m \u001b[0mcompat\u001b[0m\u001b[0;34m.\u001b[0m\u001b[0mas_text\u001b[0m\u001b[0;34m(\u001b[0m\u001b[0me\u001b[0m\u001b[0;34m.\u001b[0m\u001b[0mmessage\u001b[0m\u001b[0;34m)\u001b[0m\u001b[0;34m\u001b[0m\u001b[0m\n",
            "\u001b[0;32m/opt/conda/lib/python3.6/site-packages/tensorflow/python/client/session.py\u001b[0m in \u001b[0;36m_run_fn\u001b[0;34m(feed_dict, fetch_list, target_list, options, run_metadata)\u001b[0m\n\u001b[1;32m   1313\u001b[0m       \u001b[0mself\u001b[0m\u001b[0;34m.\u001b[0m\u001b[0m_extend_graph\u001b[0m\u001b[0;34m(\u001b[0m\u001b[0;34m)\u001b[0m\u001b[0;34m\u001b[0m\u001b[0m\n\u001b[1;32m   1314\u001b[0m       return self._call_tf_sessionrun(\n\u001b[0;32m-> 1315\u001b[0;31m           options, feed_dict, fetch_list, target_list, run_metadata)\n\u001b[0m\u001b[1;32m   1316\u001b[0m \u001b[0;34m\u001b[0m\u001b[0m\n\u001b[1;32m   1317\u001b[0m     \u001b[0;32mdef\u001b[0m \u001b[0m_prun_fn\u001b[0m\u001b[0;34m(\u001b[0m\u001b[0mhandle\u001b[0m\u001b[0;34m,\u001b[0m \u001b[0mfeed_dict\u001b[0m\u001b[0;34m,\u001b[0m \u001b[0mfetch_list\u001b[0m\u001b[0;34m)\u001b[0m\u001b[0;34m:\u001b[0m\u001b[0;34m\u001b[0m\u001b[0m\n",
            "\u001b[0;32m/opt/conda/lib/python3.6/site-packages/tensorflow/python/client/session.py\u001b[0m in \u001b[0;36m_call_tf_sessionrun\u001b[0;34m(self, options, feed_dict, fetch_list, target_list, run_metadata)\u001b[0m\n\u001b[1;32m   1421\u001b[0m         return tf_session.TF_Run(\n\u001b[1;32m   1422\u001b[0m             \u001b[0mself\u001b[0m\u001b[0;34m.\u001b[0m\u001b[0m_session\u001b[0m\u001b[0;34m,\u001b[0m \u001b[0moptions\u001b[0m\u001b[0;34m,\u001b[0m \u001b[0mfeed_dict\u001b[0m\u001b[0;34m,\u001b[0m \u001b[0mfetch_list\u001b[0m\u001b[0;34m,\u001b[0m \u001b[0mtarget_list\u001b[0m\u001b[0;34m,\u001b[0m\u001b[0;34m\u001b[0m\u001b[0m\n\u001b[0;32m-> 1423\u001b[0;31m             status, run_metadata)\n\u001b[0m\u001b[1;32m   1424\u001b[0m \u001b[0;34m\u001b[0m\u001b[0m\n\u001b[1;32m   1425\u001b[0m   \u001b[0;32mdef\u001b[0m \u001b[0m_call_tf_sessionprun\u001b[0m\u001b[0;34m(\u001b[0m\u001b[0mself\u001b[0m\u001b[0;34m,\u001b[0m \u001b[0mhandle\u001b[0m\u001b[0;34m,\u001b[0m \u001b[0mfeed_dict\u001b[0m\u001b[0;34m,\u001b[0m \u001b[0mfetch_list\u001b[0m\u001b[0;34m)\u001b[0m\u001b[0;34m:\u001b[0m\u001b[0;34m\u001b[0m\u001b[0m\n",
            "\u001b[0;31mKeyboardInterrupt\u001b[0m: "
          ]
        }
      ]
    },
    {
      "metadata": {
        "_cell_guid": "c92de650-7cd9-4f1f-92f9-ae9761559b85",
        "_uuid": "2f851d03dcbd301ca7dbd7694f2f986d6badbb6b",
        "trusted": true
      },
      "cell_type": "code",
      "source": "score = np.zeros((2,))\nfor i in range(x_test.shape[0]):\n    cur = model.evaluate(x_test[i:i+1], y_test[i:i+1], verbose=0)\n    for idx, val in enumerate(cur):\n        score[idx] += val\nscore /= x_test.shape[0]\nprint('Test loss:', score[0])\nprint('Test accuracy:', score[1])",
      "execution_count": 39,
      "outputs": [
        {
          "output_type": "stream",
          "text": "Test loss: 2.9051771496434515\nTest accuracy: 0.5\n",
          "name": "stdout"
        }
      ]
    },
    {
      "metadata": {
        "_cell_guid": "c92de650-7cd9-4f1f-92f9-ae9761559b85",
        "_uuid": "2f851d03dcbd301ca7dbd7694f2f986d6badbb6b",
        "collapsed": true,
        "trusted": false
      },
      "cell_type": "code",
      "source": "score = np.zeros((2,))\nfor i in range(x_test.shape[0]):\n    cur = model.evaluate(x_test[i:i+1], y_test[i:i+1], verbose=0)\n    for idx, val in enumerate(cur):\n        score[idx] += val\nscore /= x_test.shape[0]\nprint('Test loss:', score[0])\nprint('Test accuracy:', score[1])",
      "execution_count": null,
      "outputs": []
    },
    {
      "metadata": {
        "_cell_guid": "c92de650-7cd9-4f1f-92f9-ae9761559b85",
        "_uuid": "2f851d03dcbd301ca7dbd7694f2f986d6badbb6b",
        "collapsed": true,
        "trusted": false
      },
      "cell_type": "code",
      "source": "score = np.zeros((2,))\nfor i in range(x_test.shape[0]):\n    cur = model.evaluate(x_test[i:i+1], y_test[i:i+1], verbose=0)\n    for idx, val in enumerate(cur):\n        score[idx] += val\nscore /= x_test.shape[0]\nprint('Test loss:', score[0])\nprint('Test accuracy:', score[1])",
      "execution_count": null,
      "outputs": []
    },
    {
      "metadata": {
        "_cell_guid": "c92de650-7cd9-4f1f-92f9-ae9761559b85",
        "_uuid": "2f851d03dcbd301ca7dbd7694f2f986d6badbb6b",
        "collapsed": true,
        "trusted": false
      },
      "cell_type": "code",
      "source": "score = np.zeros((2,))\nfor i in range(x_test.shape[0]):\n    cur = model.evaluate(x_test[i:i+1], y_test[i:i+1], verbose=0)\n    for idx, val in enumerate(cur):\n        score[idx] += val\nscore /= x_test.shape[0]\nprint('Test loss:', score[0])\nprint('Test accuracy:', score[1])",
      "execution_count": null,
      "outputs": []
    },
    {
      "metadata": {
        "_cell_guid": "c92de650-7cd9-4f1f-92f9-ae9761559b85",
        "_uuid": "2f851d03dcbd301ca7dbd7694f2f986d6badbb6b",
        "collapsed": true,
        "trusted": false
      },
      "cell_type": "code",
      "source": "score = np.zeros((2,))\nfor i in range(x_test.shape[0]):\n    cur = model.evaluate(x_test[i:i+1], y_test[i:i+1], verbose=0)\n    for idx, val in enumerate(cur):\n        score[idx] += val\nscore /= x_test.shape[0]\nprint('Test loss:', score[0])\nprint('Test accuracy:', score[1])",
      "execution_count": null,
      "outputs": []
    },
    {
      "metadata": {
        "_cell_guid": "a15e7d0f-5c99-48e1-aa6c-b89ae69ad68a",
        "_uuid": "727a5d103497c1ca903a85f2ab53128ca7cd0dfe",
        "collapsed": true,
        "trusted": false
      },
      "cell_type": "code",
      "source": "#0.465\nmodel = Sequential()\nmodel.add(Conv2D(16, kernel_size=4, strides=1, activation='relu', input_shape=input_shape))\nmodel.add(Conv2D(16, kernel_size=4, strides=2, activation='relu'))\nmodel.add(Dropout(0.3))\nmodel.add(Conv2D(32, kernel_size=4, strides=1, activation='relu'))\nmodel.add(Conv2D(32, kernel_size=4, strides=2, activation='relu'))\nmodel.add(Flatten())\nmodel.add(Dropout(0.3))\nmodel.add(Dense(64, activation='relu'))\nmodel.add(Dense(NUM_OF_GENRES, activation='softmax'))\n\nmodel.compile(optimizer='adadelta', loss='categorical_crossentropy', metrics=[\"accuracy\"])",
      "execution_count": null,
      "outputs": []
    },
    {
      "metadata": {
        "_cell_guid": "435f823a-b30e-4ea5-b864-2798731baaaf",
        "_uuid": "4fe43d88bff60a6d31fe8e9fcc042c070ef2d2d9",
        "collapsed": true,
        "trusted": false
      },
      "cell_type": "code",
      "source": "#0.485\nmodel = Sequential()\nmodel.add(Conv2D(16, kernel_size=2, strides=1, activation='relu', input_shape=input_shape))\nmodel.add(Conv2D(16, kernel_size=2, strides=2, activation='relu'))\nmodel.add(MaxPooling2D(pool_size=(2, 2)))\nmodel.add(Dropout(0.3))\nmodel.add(Conv2D(32, kernel_size=4, strides=1, activation='relu'))\nmodel.add(Conv2D(32, kernel_size=4, strides=2, activation='relu'))\nmodel.add(Flatten())\nmodel.add(Dropout(0.3))\nmodel.add(Dense(64, activation='relu'))\nmodel.add(Dense(NUM_OF_GENRES, activation='softmax'))\n\nmodel.compile(optimizer='adadelta', loss='categorical_crossentropy', metrics=[\"accuracy\"])",
      "execution_count": null,
      "outputs": []
    },
    {
      "metadata": {
        "_cell_guid": "e32d22b4-0994-4f5e-8a4a-b920d8b06796",
        "_uuid": "685f92e274a74ce55c89454c5e091ad6a82ee84e",
        "collapsed": true,
        "trusted": false
      },
      "cell_type": "code",
      "source": "# Test loss: 3.1804552129786376\n# Test accuracy: 0.5\nmodel = Sequential()\nmodel.add(Conv2D(16, kernel_size=2, strides=1, activation='relu', input_shape=input_shape))\nmodel.add(Conv2D(16, kernel_size=2, strides=2, activation='relu'))\nmodel.add(MaxPooling2D(pool_size=(2, 2)))\nmodel.add(Dropout(0.3))\nmodel.add(Conv2D(32, kernel_size=4, strides=1, activation='relu'))\nmodel.add(Conv2D(32, kernel_size=4, strides=2, activation='relu'))\nmodel.add(MaxPooling2D(pool_size=(2, 2)))\nmodel.add(Flatten())\nmodel.add(Dropout(0.3))\nmodel.add(Dense(64, activation='relu'))\nmodel.add(Dense(NUM_OF_GENRES, activation='softmax'))\n\nmodel.compile(optimizer='adadelta', loss='categorical_crossentropy', metrics=[\"accuracy\"])",
      "execution_count": null,
      "outputs": []
    },
    {
      "metadata": {
        "_cell_guid": "a1874d78-95a7-43d9-8f52-a6ee45683899",
        "_uuid": "13b034dc9d060d43fd00f9f64b4627e8ec15be1e",
        "collapsed": true,
        "trusted": false
      },
      "cell_type": "code",
      "source": "",
      "execution_count": null,
      "outputs": []
    }
  ],
  "metadata": {
    "kernelspec": {
      "display_name": "Python 3",
      "language": "python",
      "name": "python3"
    },
    "language_info": {
      "name": "python",
      "version": "3.6.4",
      "mimetype": "text/x-python",
      "codemirror_mode": {
        "name": "ipython",
        "version": 3
      },
      "pygments_lexer": "ipython3",
      "nbconvert_exporter": "python",
      "file_extension": ".py"
    }
  },
  "nbformat": 4,
  "nbformat_minor": 1
}