{
 "cells": [
  {
   "cell_type": "code",
   "execution_count": 2,
   "metadata": {
    "ExecuteTime": {
     "end_time": "2018-05-23T23:55:41.016172Z",
     "start_time": "2018-05-23T23:55:30.691159Z"
    }
   },
   "outputs": [],
   "source": [
    "%matplotlib inline\n",
    "import librosa\n",
    "import librosa.display\n",
    "import matplotlib.pyplot as plt\n",
    "import numpy as np\n",
    "import pylab\n",
    "\n",
    "from tqdm import tqdm"
   ]
  },
  {
   "cell_type": "code",
   "execution_count": 3,
   "metadata": {
    "ExecuteTime": {
     "end_time": "2018-05-23T23:55:41.026613Z",
     "start_time": "2018-05-23T23:55:41.020198Z"
    }
   },
   "outputs": [],
   "source": [
    "import os"
   ]
  },
  {
   "cell_type": "code",
   "execution_count": 4,
   "metadata": {
    "ExecuteTime": {
     "end_time": "2018-05-23T23:55:41.138784Z",
     "start_time": "2018-05-23T23:55:41.029217Z"
    }
   },
   "outputs": [],
   "source": [
    "import librosa\n",
    "from tqdm import tqdm"
   ]
  },
  {
   "cell_type": "code",
   "execution_count": 5,
   "metadata": {
    "ExecuteTime": {
     "end_time": "2018-05-23T23:55:41.238160Z",
     "start_time": "2018-05-23T23:55:41.142471Z"
    }
   },
   "outputs": [],
   "source": [
    "import librosa\n",
    "from tqdm import tqdm"
   ]
  },
  {
   "cell_type": "code",
   "execution_count": 6,
   "metadata": {
    "ExecuteTime": {
     "end_time": "2018-05-23T23:55:44.304799Z",
     "start_time": "2018-05-23T23:55:44.298584Z"
    }
   },
   "outputs": [],
   "source": [
    "GENRE_DIR = '/media/D/university/coursework/genres/'\n",
    "GENRE_LIST = ('blues', 'classical', 'country', 'disco', 'hiphop', 'jazz', 'metal', 'pop', 'reggae', 'rock')\n",
    "EXTENSIONS = ('.au')\n",
    "# IMAGE_DIR = '/media/D/university/coursework/genre_images/'\n",
    "# IMAGE_DIR = '/media/D/university/coursework/genres_images_450_257/'\n",
    "IMAGE_DIR = '/media/D/university/coursework/genre_images_wb/'"
   ]
  },
  {
   "cell_type": "code",
   "execution_count": 9,
   "metadata": {
    "ExecuteTime": {
     "end_time": "2018-05-23T23:57:17.586548Z",
     "start_time": "2018-05-23T23:57:17.565453Z"
    }
   },
   "outputs": [],
   "source": [
    "def convert_to_image(sound_file, image_file):\n",
    "    os.system('sox {} -n spectrogram -r -m -o {}'.format(sound_file, image_file))\n",
    "    return\n",
    "    y, sr = librosa.load(sound_file)\n",
    "    plt.figure(figsize=(12, 8))\n",
    "    D = librosa.amplitude_to_db(librosa.stft(y), ref=np.max)\n",
    "    print(D.shape)\n",
    "    pylab.axis('off')\n",
    "    pylab.axes([0., 0., 1., 1.], frameon=False, xticks=[], yticks=[])\n",
    "    librosa.display.specshow(D, y_axis='linear')\n",
    "    pylab.savefig(image_file, bbox_inches=None, pad_inches=0)\n",
    "    pylab.close()\n",
    "#     plt.colorbar(format='%+2.0f dB')\n",
    "#     plt.title('Linear-frequency power spectrogram')\n",
    "    "
   ]
  },
  {
   "cell_type": "code",
   "execution_count": 10,
   "metadata": {
    "ExecuteTime": {
     "end_time": "2018-05-23T23:58:56.522512Z",
     "start_time": "2018-05-23T23:57:18.290457Z"
    }
   },
   "outputs": [
    {
     "name": "stderr",
     "output_type": "stream",
     "text": [
      "\r",
      "  0%|          | 0/100 [00:00<?, ?it/s]"
     ]
    },
    {
     "name": "stdout",
     "output_type": "stream",
     "text": [
      "blues ...\n"
     ]
    },
    {
     "name": "stderr",
     "output_type": "stream",
     "text": [
      "100%|██████████| 100/100 [00:09<00:00, 10.87it/s]\n",
      "  0%|          | 0/100 [00:00<?, ?it/s]"
     ]
    },
    {
     "name": "stdout",
     "output_type": "stream",
     "text": [
      "classical ...\n"
     ]
    },
    {
     "name": "stderr",
     "output_type": "stream",
     "text": [
      "100%|██████████| 100/100 [00:10<00:00,  9.50it/s]\n",
      "  0%|          | 0/100 [00:00<?, ?it/s]"
     ]
    },
    {
     "name": "stdout",
     "output_type": "stream",
     "text": [
      "country ...\n"
     ]
    },
    {
     "name": "stderr",
     "output_type": "stream",
     "text": [
      "100%|██████████| 100/100 [00:08<00:00, 11.19it/s]\n",
      "  2%|▏         | 2/100 [00:00<00:08, 11.68it/s]"
     ]
    },
    {
     "name": "stdout",
     "output_type": "stream",
     "text": [
      "disco ...\n"
     ]
    },
    {
     "name": "stderr",
     "output_type": "stream",
     "text": [
      "100%|██████████| 100/100 [00:12<00:00,  8.09it/s]\n",
      "  1%|          | 1/100 [00:00<00:16,  6.13it/s]"
     ]
    },
    {
     "name": "stdout",
     "output_type": "stream",
     "text": [
      "hiphop ...\n"
     ]
    },
    {
     "name": "stderr",
     "output_type": "stream",
     "text": [
      "100%|██████████| 100/100 [00:10<00:00,  9.72it/s]\n",
      "  2%|▏         | 2/100 [00:00<00:08, 11.06it/s]"
     ]
    },
    {
     "name": "stdout",
     "output_type": "stream",
     "text": [
      "jazz ...\n"
     ]
    },
    {
     "name": "stderr",
     "output_type": "stream",
     "text": [
      "100%|██████████| 100/100 [00:08<00:00, 11.39it/s]\n",
      "  2%|▏         | 2/100 [00:00<00:08, 11.41it/s]"
     ]
    },
    {
     "name": "stdout",
     "output_type": "stream",
     "text": [
      "metal ...\n"
     ]
    },
    {
     "name": "stderr",
     "output_type": "stream",
     "text": [
      "100%|██████████| 100/100 [00:08<00:00, 11.16it/s]\n",
      "  0%|          | 0/100 [00:00<?, ?it/s]"
     ]
    },
    {
     "name": "stdout",
     "output_type": "stream",
     "text": [
      "pop ...\n"
     ]
    },
    {
     "name": "stderr",
     "output_type": "stream",
     "text": [
      "100%|██████████| 100/100 [00:11<00:00,  8.61it/s]\n",
      "  2%|▏         | 2/100 [00:00<00:09, 10.65it/s]"
     ]
    },
    {
     "name": "stdout",
     "output_type": "stream",
     "text": [
      "reggae ...\n"
     ]
    },
    {
     "name": "stderr",
     "output_type": "stream",
     "text": [
      "100%|██████████| 100/100 [00:08<00:00, 11.34it/s]\n",
      "  2%|▏         | 2/100 [00:00<00:08, 10.99it/s]"
     ]
    },
    {
     "name": "stdout",
     "output_type": "stream",
     "text": [
      "rock ...\n"
     ]
    },
    {
     "name": "stderr",
     "output_type": "stream",
     "text": [
      "100%|██████████| 100/100 [00:08<00:00, 11.53it/s]\n"
     ]
    }
   ],
   "source": [
    "for genre in GENRE_LIST:\n",
    "    print(genre, '...')\n",
    "    \n",
    "    image_dir = IMAGE_DIR + genre\n",
    "    if not os.path.exists(image_dir):\n",
    "        os.makedirs(image_dir)\n",
    "        \n",
    "    for root, subdirs, files in os.walk(GENRE_DIR + genre):\n",
    "        for sound_file in tqdm(files):\n",
    "            if sound_file[-3:] not in EXTENSIONS:\n",
    "                continue\n",
    "            image_file = '{}/{}.png'.format(image_dir, sound_file[:-3])\n",
    "            convert_to_image(root + '/' + sound_file, image_file)\n",
    "#             break\n",
    "#         break\n",
    "#     break"
   ]
  }
 ],
 "metadata": {
  "kernelspec": {
   "display_name": "3python",
   "language": "python",
   "name": "3python"
  },
  "language_info": {
   "codemirror_mode": {
    "name": "ipython",
    "version": 3
   },
   "file_extension": ".py",
   "mimetype": "text/x-python",
   "name": "python",
   "nbconvert_exporter": "python",
   "pygments_lexer": "ipython3",
   "version": "3.6.5"
  },
  "notify_time": "5"
 },
 "nbformat": 4,
 "nbformat_minor": 2
}
